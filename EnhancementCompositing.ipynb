{
 "cells": [
  {
   "cell_type": "code",
   "execution_count": 1,
   "id": "c15c0584-c688-4f59-b54c-fe39618512c6",
   "metadata": {},
   "outputs": [
    {
     "name": "stdout",
     "output_type": "stream",
     "text": [
      "Showing frame window\n",
      "Frame window destroyed.\n"
     ]
    }
   ],
   "source": [
    "# Sample frame loader\n",
    "from MagecVideoInfo import extract_frame, display_frame\n",
    "\n",
    "def sample_frame_loader():\n",
    "    file = r'J:\\TTX\\Assets\\Tests\\Sample1_T_M_S.mp4'\n",
    "    frame_number = 300\n",
    "    frame = extract_frame(file, frame_number)\n",
    "    display_frame(frame, True)\n",
    "    return frame\n",
    "\n",
    "sample_frame = sample_frame_loader()"
   ]
  },
  {
   "cell_type": "code",
   "execution_count": 4,
   "id": "22694f7d-3876-49d7-ba13-ff80289f3657",
   "metadata": {},
   "outputs": [
    {
     "name": "stdout",
     "output_type": "stream",
     "text": [
      "Showing frame window\n",
      "Frame window destroyed.\n"
     ]
    }
   ],
   "source": [
    "from MagecImageEnhancer import resize_with_padding\n",
    "\n",
    "def test_simple_padded_resize(sample_frame, width, height):\n",
    "    result = resize_with_padding(sample_frame, width, height)\n",
    "    display_frame(result, True)\n",
    "    return result\n",
    "\n",
    "simple_resized_frame = test_simple_padded_resize(sample_frame, 3840, 2400)"
   ]
  },
  {
   "cell_type": "code",
   "execution_count": null,
   "id": "12322b21-0b02-4871-812f-455a05109b14",
   "metadata": {},
   "outputs": [],
   "source": [
    "import torch\n",
    "from torchvision import transforms\n",
    "import cv2\n",
    "import numpy as np\n",
    "from PIL import Image\n",
    "\n",
    "# Load pre-trained ESRGAN model\n",
    "def load_esrgan_model():\n",
    "    model_path = 'path_to_esrgan_model.pth'\n",
    "    model = torch.load(model_path)\n",
    "    model.eval()\n",
    "    return model\n",
    "\n",
    "# Super-resolve an image using ESRGAN\n",
    "def super_resolve_image(model, image):\n",
    "    img = transforms.ToTensor()(image).unsqueeze(0)\n",
    "    with torch.no_grad():\n",
    "        sr_img = model(img)\n",
    "    sr_img = sr_img.squeeze().clamp(0, 1).numpy()\n",
    "    sr_img = np.transpose(sr_img, (1, 2, 0))\n",
    "    sr_img = (sr_img * 255).astype(np.uint8)\n",
    "    return sr_img\n",
    "\n",
    "# Load an image and apply super-resolution and denoising\n",
    "def process_image(image_path, esrgan_model):\n",
    "    image = Image.open(image_path).convert('RGB')\n",
    "    sr_image = super_resolve_image(esrgan_model, image)\n",
    "    \n",
    "    # Apply denoising using DNCNN (for demonstration, using OpenCV's fastNlMeansDenoisingColored)\n",
    "    denoised_image = cv2.fastNlMeansDenoisingColored(sr_image, None, 10, 10, 7, 21)\n",
    "    \n",
    "    return denoised_image\n",
    "\n",
    "# Main script\n",
    "esrgan_model = load_esrgan_model()\n",
    "processed_image = process_image('path_to_image.jpg', esrgan_model)\n",
    "\n",
    "# Display the processed image\n",
    "cv2.imshow('Processed Image', processed_image)\n",
    "cv2.waitKey(0)\n",
    "cv2.destroyAllWindows()"
   ]
  }
 ],
 "metadata": {
  "kernelspec": {
   "display_name": "Python 3 (ipykernel)",
   "language": "python",
   "name": "python3"
  },
  "language_info": {
   "codemirror_mode": {
    "name": "ipython",
    "version": 3
   },
   "file_extension": ".py",
   "mimetype": "text/x-python",
   "name": "python",
   "nbconvert_exporter": "python",
   "pygments_lexer": "ipython3",
   "version": "3.12.4"
  }
 },
 "nbformat": 4,
 "nbformat_minor": 5
}
