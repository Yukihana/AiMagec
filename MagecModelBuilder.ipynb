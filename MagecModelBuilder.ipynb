{
 "cells": [
  {
   "cell_type": "markdown",
   "id": "829336e0-f5cc-4f85-a257-49a4ea5e269b",
   "metadata": {},
   "source": [
    "# Magec Prototype : Segment Tests"
   ]
  },
  {
   "cell_type": "markdown",
   "id": "4896d86f-c9ca-47ea-8601-3ad90db0f5ca",
   "metadata": {},
   "source": [
    "## Segment Tests : Metadata and frame"
   ]
  },
  {
   "cell_type": "code",
   "execution_count": 16,
   "id": "0db15b60-a147-41a8-9f84-e27d4adae2cb",
   "metadata": {},
   "outputs": [
    {
     "name": "stdout",
     "output_type": "stream",
     "text": [
      "VideoInfo(path='J:\\\\TTX\\\\Assets\\\\Tests\\\\Sample0.mp4',\n",
      "          frame_count=47857,\n",
      "          width=1920,\n",
      "          height=1080,\n",
      "          container=None,\n",
      "          video_codec=None,\n",
      "          audio_codec=None)\n"
     ]
    }
   ],
   "source": [
    "# Test: Get metadata from mp4 file\n",
    "from MagecVideoInfo import get_video_info\n",
    "from pprint import pprint\n",
    "\n",
    "def test_get_video_info(path):\n",
    "    video_info = get_video_info(path);\n",
    "    pprint(video_info)\n",
    "\n",
    "test_get_video_info(path = r\"J:\\TTX\\Assets\\Tests\\Sample0.mp4\")"
   ]
  },
  {
   "cell_type": "code",
   "execution_count": 16,
   "id": "b6a6ceeb-8d02-479c-8d84-109090c31ec3",
   "metadata": {
    "scrolled": true
   },
   "outputs": [
    {
     "name": "stdout",
     "output_type": "stream",
     "text": [
      "Showing frame window\n",
      "Frame window destroyed.\n"
     ]
    }
   ],
   "source": [
    "# Test: Get frame from mp4 file\n",
    "from VideoModelHelper import extract_frame, display_frame\n",
    "import cv2\n",
    "\n",
    "def test_display_frame(video_path, frame_number):\n",
    "    frame = extract_frame(video_path, frame_number)\n",
    "    display_frame(frame, debug_messages = True)\n",
    "\n",
    "test_display_frame(video_path = r\"J:\\TTX\\Assets\\Tests\\Sample0.mp4\", frame_number = 9500)"
   ]
  },
  {
   "cell_type": "markdown",
   "id": "ea0163fc-eb82-49a0-a2cf-2272e76411ef",
   "metadata": {},
   "source": [
    "## Segment Tests: Get files, parameters, translation map"
   ]
  },
  {
   "cell_type": "code",
   "execution_count": 3,
   "id": "6b45c9c2-436c-45ec-a0d9-30876fd1c816",
   "metadata": {},
   "outputs": [
    {
     "name": "stdout",
     "output_type": "stream",
     "text": [
      "Found 513 files.\n"
     ]
    }
   ],
   "source": [
    "# Test: List all files in a directory structure\n",
    "from MagecVideoInfo import list_asset_files\n",
    "from pprint import pprint\n",
    "\n",
    "def test_list_asset_files(source_path):\n",
    "    file_list = list_asset_files(source_path)\n",
    "    print(f\"Found {len(file_list)} files.\")\n",
    "    # for file in file_list:\n",
    "    #    print(file)\n",
    "    return file_list\n",
    "\n",
    "file_list = test_list_asset_files(source_path = r'J:\\TTX\\Assets')"
   ]
  },
  {
   "cell_type": "code",
   "execution_count": 10,
   "id": "4d398b1a-ded4-4245-a6aa-41289585fab6",
   "metadata": {},
   "outputs": [
    {
     "name": "stdout",
     "output_type": "stream",
     "text": [
      "513 video infos collected\n"
     ]
    }
   ],
   "source": [
    "from MagecVideoInfo import collect_video_infos\n",
    "\n",
    "def test_collect_video_infos(file_list):\n",
    "    video_infos = collect_video_infos(file_list)\n",
    "    print(f\"{len(video_infos)} video infos collected\")\n",
    "    return video_infos\n",
    "\n",
    "video_infos = test_collect_video_infos(file_list)"
   ]
  },
  {
   "cell_type": "code",
   "execution_count": 11,
   "id": "437ec480-23e2-4cb0-9b8c-d84d01be0751",
   "metadata": {},
   "outputs": [
    {
     "name": "stdout",
     "output_type": "stream",
     "text": [
      "Sampling resolution: W-3840 x H-2400.\n"
     ]
    }
   ],
   "source": [
    "# Test: Get highest width and height\n",
    "from MagecVideoInfo import determine_sampling_resolution\n",
    "\n",
    "def test_determine_sampling_resolution(video_infos):\n",
    "    width_max, height_max = determine_sampling_resolution(video_infos)\n",
    "    print(f\"Sampling resolution: W-{width_max} x H-{height_max}.\")\n",
    "    return width_max, height_max\n",
    "    \n",
    "sampling_width, sampling_height = test_determine_sampling_resolution(video_infos)"
   ]
  },
  {
   "cell_type": "code",
   "execution_count": 12,
   "id": "2228d2a1-93c2-4309-afa1-aa72eaf4a0a6",
   "metadata": {},
   "outputs": [
    {
     "name": "stdout",
     "output_type": "stream",
     "text": [
      "...done.\n"
     ]
    }
   ],
   "source": [
    "# Test: Create translation map from mp4 files\n",
    "from MagecVideoInfo import create_range_map, pp_range_map\n",
    "\n",
    "def test_generate_info_map(video_infos):\n",
    "    translation_map = create_range_map(video_infos)\n",
    "    print(\"...done.\")\n",
    "    # pp_range_map(translation_map)\n",
    "    return translation_map\n",
    "\n",
    "tmap = test_generate_info_map(video_infos = video_infos)"
   ]
  },
  {
   "cell_type": "markdown",
   "id": "8208fd34-b15a-4fef-8bd0-4ef28a220fe0",
   "metadata": {},
   "source": [
    "## Segment Tests : Preprocessing"
   ]
  },
  {
   "cell_type": "code",
   "execution_count": null,
   "id": "d52a519b-e4e2-467f-8ee7-5e32ce55a0e7",
   "metadata": {},
   "outputs": [],
   "source": [
    "# Test: Get a random frame using the translation map\n",
    "from VideoModelHelper import extract_frame, display_frame\n",
    "from MagecVideoInfo import translate_index\n",
    "\n",
    "def test_frame_translation(translation_map, frame_index, preview):\n",
    "    video_path, frame_number = translate_index(translation_map, frame_index)\n",
    "    print(f\"{video_path} : {frame_number}\")\n",
    "    frame = extract_frame(video_path, frame_number)\n",
    "    if preview:\n",
    "        display_frame(frame, False)\n",
    "    return frame\n",
    "\n",
    "test_frame = test_frame_translation(tmap, frame_index = 30000, preview = True)"
   ]
  },
  {
   "cell_type": "code",
   "execution_count": null,
   "id": "cde5467e-ea2b-4c13-8da6-96b8ca1bcf64",
   "metadata": {},
   "outputs": [],
   "source": [
    "# Test: "
   ]
  },
  {
   "cell_type": "markdown",
   "id": "e16a92de-3a90-437d-981d-7d17b884fe70",
   "metadata": {},
   "source": [
    "# Test: Set up model trainer"
   ]
  },
  {
   "cell_type": "markdown",
   "id": "ef91da7e-a3db-4f86-a4f2-f359bac9d86f",
   "metadata": {},
   "source": [
    "# Video Model Trainer : Prototype Code"
   ]
  },
  {
   "cell_type": "code",
   "execution_count": null,
   "id": "ce860ccf-2ee8-43ac-a394-fa330f4d1dd7",
   "metadata": {},
   "outputs": [],
   "source": [
    "import MagecVideoInfo\n",
    "\n",
    "def train_model():\n",
    "\n",
    "    # Collect data\n",
    "    src_dir = r\"J:\\TTX\\Assets\"\n",
    "    files = MagecVideoInfo.list_asset_files(src_dir)\n",
    "    video_infos = MagecVideoInfo.collect_video_infos(files)\n",
    "\n",
    "    # Preprocess indices\n",
    "    max_width, max_height =  MagecVideoInfo.determine_max_resolution(video_infos)\n",
    "    translation_map =  MagecVideoInfo.create_range_map(video_infos)\n",
    "    \n",
    "    MagecVideoInfo.pp_range_map(translation_map)\n",
    "\n",
    "train_model()"
   ]
  },
  {
   "cell_type": "code",
   "execution_count": null,
   "id": "ddee6315-a7d0-450f-9b1c-f6a2a46dd794",
   "metadata": {},
   "outputs": [],
   "source": []
  }
 ],
 "metadata": {
  "kernelspec": {
   "display_name": "Python 3 (ipykernel)",
   "language": "python",
   "name": "python3"
  },
  "language_info": {
   "codemirror_mode": {
    "name": "ipython",
    "version": 3
   },
   "file_extension": ".py",
   "mimetype": "text/x-python",
   "name": "python",
   "nbconvert_exporter": "python",
   "pygments_lexer": "ipython3",
   "version": "3.12.4"
  }
 },
 "nbformat": 4,
 "nbformat_minor": 5
}
